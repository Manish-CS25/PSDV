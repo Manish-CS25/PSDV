{
 "cells": [
  {
   "cell_type": "code",
   "execution_count": null,
   "metadata": {
    "vscode": {
     "languageId": "plaintext"
    }
   },
   "outputs": [],
   "source": [
    "#@title Convert ipynb to HTML in Colab\n",
    "# Upload ipynb\n",
    "from google.colab import files\n",
    "f = files.upload()\n",
    "\n",
    "# Convert ipynb to html\n",
    "import subprocess\n",
    "file0 = list(f.keys())[0]\n",
    "_ = subprocess.run([\"pip\", \"install\", \"nbconvert\"])\n",
    "_ = subprocess.run([\"jupyter\", \"nbconvert\", file0, \"--to\", \"html\"])\n",
    "\n",
    "# download the html\n",
    "files.download(file0[:-5]+\"html\")"
   ]
  }
 ],
 "metadata": {
  "language_info": {
   "name": "python"
  }
 },
 "nbformat": 4,
 "nbformat_minor": 2
}
